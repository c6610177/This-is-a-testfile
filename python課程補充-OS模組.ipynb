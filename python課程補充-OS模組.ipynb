{
 "cells": [
  {
   "cell_type": "markdown",
   "id": "7221d233-545e-4201-8d6a-21eaeda4c16f",
   "metadata": {},
   "source": [
    "### **讀寫檔案**\n",
    "\n",
    "本章要介紹python在硬碟上的建立、讀取和儲存檔案"
   ]
  },
  {
   "cell_type": "markdown",
   "id": "195b2f93-9bfc-44f3-9d17-687129d0001b",
   "metadata": {},
   "source": [
    "#### **匯入os模組**\n",
    "\n",
    "讀取檔案需要與作業系統進行互動，因此會應用到os模組\n",
    "\n",
    "python--os模組：https://docs.python.org/zh-tw/3/library/os.html#module-os"
   ]
  },
  {
   "cell_type": "code",
   "execution_count": 1,
   "id": "771ce893-e41e-435c-bdfc-cca79f6e78c3",
   "metadata": {},
   "outputs": [],
   "source": [
    "import os\n",
    "#os模組有許多大量的應用函數，可透過dir以及help來查看\n",
    "\n",
    "#dir(os)\n",
    "\n",
    "#help(os)"
   ]
  },
  {
   "cell_type": "markdown",
   "id": "ec5193b1-3809-46e4-ba14-50fdda68eb84",
   "metadata": {
    "tags": []
   },
   "source": [
    "#### **關於檔案與路徑**\n",
    "\n",
    "檔案有著兩個關鍵的性質：「檔名」和「路徑」。其中路徑顯示了檔案在電腦中的位置。例如：我的電腦中有一份「2330.csv」，路徑為「C:\\Users\\c6610」，其中Users、c66101都是我的資料夾(目錄)\n",
    "\n",
    "而像是下圖，某台Windows電腦中的檔案目錄很可能會長這樣。"
   ]
  },
  {
   "cell_type": "markdown",
   "id": "1622b9e9-ba27-445c-b917-b33bc7d5a429",
   "metadata": {},
   "source": [
    "<img src=https://s3.ap-northeast-1.wasabisys.com/img.tw511.com/202008/20200811135725465iibrhfp0zen.png>"
   ]
  },
  {
   "cell_type": "markdown",
   "id": "0e9048ea-4bbe-4ee5-a2c1-8bc6793b9d79",
   "metadata": {},
   "source": [
    "**補充：Windows的反斜線與 OS和Linux上的斜線**\n",
    "\n",
    "在Windows上，路徑是採用反斜線(\\)作為分隔，但在OS和Linux系統上則是採用斜線(/)做為分隔符號，因此要讓程式能在各系統上運作就要處理這種情況。而我們這次要用的os模組大多數都有辦法處理這種問題。\n",
    "\n",
    "os模組可以用一個簡單的函式處理這種問題：「os.path.join()」，會將輸入進去的字串回傳出路徑(字串型態)」"
   ]
  },
  {
   "cell_type": "markdown",
   "id": "01827ef4-45fe-4b36-b353-c4d05e4ee5b1",
   "metadata": {},
   "source": [
    "**編寫路徑**"
   ]
  },
  {
   "cell_type": "code",
   "execution_count": 2,
   "id": "6f3fc4aa-db04-438b-b851-b5b9341e93c3",
   "metadata": {},
   "outputs": [
    {
     "data": {
      "text/plain": [
       "'users\\\\new_Folder\\\\spam'"
      ]
     },
     "execution_count": 2,
     "metadata": {},
     "output_type": "execute_result"
    }
   ],
   "source": [
    "#import os #前面已經匯入過了\n",
    "os.path.join('users','new_Folder','spam')\n",
    "\n",
    "#只所以會是兩個斜線，是因為每個反斜線都要用一個反斜線來轉譯"
   ]
  },
  {
   "cell_type": "markdown",
   "id": "a902a0b9-bd72-4940-9bfc-7e0f18014832",
   "metadata": {},
   "source": [
    "如果是在OS系統和Linux系統運作，則會回傳「users/new_Folder/spam」"
   ]
  },
  {
   "cell_type": "markdown",
   "id": "9bf22943-3ad4-4771-81b8-b4e7dad3c997",
   "metadata": {},
   "source": [
    "假設我們要閱覽多份文件，這種方式可以確保我們路徑正確"
   ]
  },
  {
   "cell_type": "code",
   "execution_count": 3,
   "id": "991e8de1-50bd-4450-9059-170d8e53bffd",
   "metadata": {},
   "outputs": [
    {
     "name": "stdout",
     "output_type": "stream",
     "text": [
      "C:\\Users\\new_Folder\\檔案1.txt\n",
      "C:\\Users\\new_Folder\\檔案2.csv\n",
      "C:\\Users\\new_Folder\\檔案3.docx\n"
     ]
    }
   ],
   "source": [
    "myFiles=['檔案1.txt','檔案2.csv','檔案3.docx'] #假設我們有這三份檔案\n",
    "\n",
    "for filename in myFiles:\n",
    "    print(os.path.join('C:\\\\Users\\\\new_Folder',filename))\n",
    "    #透過os.path可以確保路徑正確\n",
    "    #print是直接顯示出來，不需要用兩個反斜線"
   ]
  },
  {
   "cell_type": "markdown",
   "id": "269ef571-ba0c-40e1-8d22-1df67e1413d0",
   "metadata": {},
   "source": [
    "**目前的工作目錄**"
   ]
  },
  {
   "cell_type": "markdown",
   "id": "cb3933df-900d-47b4-a4f0-9c0772c60614",
   "metadata": {},
   "source": [
    "每個電腦的程式都會有所謂的「當前工作目錄(current working directory，簡稱cwd或cd)」\n",
    "\n",
    "我們可以透過「os.getcwd()」來得到當前的目錄，並且採用「os.chdir()」來切換變更。\n",
    "\n",
    "要注意os.chdir()要有符合的對應位置，否則會報錯"
   ]
  },
  {
   "cell_type": "code",
   "execution_count": 4,
   "id": "121e0955-6a23-46a2-a85e-ffa4de18a1d6",
   "metadata": {},
   "outputs": [
    {
     "data": {
      "text/plain": [
       "'C:\\\\Users\\\\c6610'"
      ]
     },
     "execution_count": 4,
     "metadata": {},
     "output_type": "execute_result"
    }
   ],
   "source": [
    "os.getcwd() #取得當前工作目錄位置"
   ]
  },
  {
   "cell_type": "code",
   "execution_count": 5,
   "id": "1b8a6c54-a8c4-4ae3-8812-5a3ef718fee7",
   "metadata": {},
   "outputs": [
    {
     "data": {
      "text/plain": [
       "'C:\\\\Users\\\\c6610\\\\新下載位置\\\\IMG'"
      ]
     },
     "execution_count": 5,
     "metadata": {},
     "output_type": "execute_result"
    }
   ],
   "source": [
    "os.chdir(\"C:\\\\Users\\\\c6610\\\\新下載位置\\\\IMG\") \n",
    "#更改至輸入字串的位置 \n",
    "#可以自己新增資料夾來測試。\n",
    "\n",
    "os.getcwd() #檢查是否更改"
   ]
  },
  {
   "cell_type": "markdown",
   "id": "dc329ade-9781-42c7-b24b-159bd2841bdd",
   "metadata": {
    "tags": []
   },
   "source": [
    "#### **絕對路徑與相對路徑**\n",
    "\n",
    "主要有兩種指定檔案路徑的方式\n",
    "\n",
    "1. 絕對路徑：從根目錄開始\n",
    "\n",
    "2. 相對路徑：相對於程式的目前工作目錄"
   ]
  },
  {
   "cell_type": "markdown",
   "id": "ff893560-a403-4fda-baa8-2c58aff9b198",
   "metadata": {},
   "source": [
    "<img src=https://s3.ap-northeast-1.wasabisys.com/img.tw511.com/202008/20200811135725465iibrhfp0zen.png>"
   ]
  },
  {
   "cell_type": "code",
   "execution_count": 6,
   "id": "845ef381-289a-4000-896e-48758bf89615",
   "metadata": {},
   "outputs": [
    {
     "data": {
      "text/plain": [
       "'C:\\\\測試OS模組'"
      ]
     },
     "execution_count": 6,
     "metadata": {},
     "output_type": "execute_result"
    }
   ],
   "source": [
    "os.chdir('C:\\\\測試OS模組') \n",
    "os.getcwd()"
   ]
  },
  {
   "cell_type": "markdown",
   "id": "01e299b6-ef08-4a3a-a823-6744c7e6b3e9",
   "metadata": {},
   "source": [
    "**改路徑的方式：絕對路徑**"
   ]
  },
  {
   "cell_type": "code",
   "execution_count": 7,
   "id": "d967dfe1-7521-4786-8607-811d5e87f937",
   "metadata": {},
   "outputs": [
    {
     "data": {
      "text/plain": [
       "'C:\\\\測試OS模組\\\\檔案包2'"
      ]
     },
     "execution_count": 7,
     "metadata": {},
     "output_type": "execute_result"
    }
   ],
   "source": [
    "os.chdir('C:\\\\測試OS模組\\\\檔案包2') #從根目錄(電腦C槽)完整寫到目標位置\n",
    "os.getcwd()"
   ]
  },
  {
   "cell_type": "markdown",
   "id": "30cd4cc0-1097-48ca-a7dc-47c7bdab85a9",
   "metadata": {},
   "source": [
    "**改路徑的方式：相對路徑**"
   ]
  },
  {
   "cell_type": "code",
   "execution_count": 8,
   "id": "ddad5309-54d1-433d-8439-78d1df6c3a30",
   "metadata": {},
   "outputs": [
    {
     "data": {
      "text/plain": [
       "'C:\\\\測試OS模組\\\\檔案包2'"
      ]
     },
     "execution_count": 8,
     "metadata": {},
     "output_type": "execute_result"
    }
   ],
   "source": [
    "os.chdir('.\\\\') #相對路徑的方式，從原本的目標位置開始寫\n",
    "\n",
    "# 「.\\\\」：當前工作位置  \n",
    "\n",
    "#前面額外追加一個「.」：「回到上一個資料夾」\n",
    "\n",
    "# 「\\\\」：回到根目錄\n",
    "\n",
    "os.getcwd() #回到上上個資料夾"
   ]
  },
  {
   "cell_type": "code",
   "execution_count": 9,
   "id": "81544e27-3be4-453b-8e17-f0c8f66de43b",
   "metadata": {},
   "outputs": [
    {
     "data": {
      "text/plain": [
       "'C:\\\\測試OS模組\\\\檔案包1'"
      ]
     },
     "execution_count": 9,
     "metadata": {},
     "output_type": "execute_result"
    }
   ],
   "source": [
    "os.chdir('..\\\\檔案包1')  \n",
    "#從原本的「檔案包2」資料夾，回到上一個資料夾，指定前往另一個資料夾「檔案包1」\n",
    "\n",
    "os.getcwd() "
   ]
  },
  {
   "cell_type": "markdown",
   "id": "acd40e09-df39-4069-9fd7-5a1a32f0063e",
   "metadata": {},
   "source": [
    "#### **處理絕對路徑和相對路徑**\n",
    "\n",
    "我們可以透過os.path模組，依據需求將轉換成絕對路徑或相對路徑"
   ]
  },
  {
   "cell_type": "markdown",
   "id": "059445ce-beec-4afe-8267-b5e7467b9711",
   "metadata": {},
   "source": [
    "**絕對路徑**\n",
    "\n",
    "os.path.abspath(path)"
   ]
  },
  {
   "cell_type": "code",
   "execution_count": 10,
   "id": "4ab1035d-4a89-40f1-be9d-c5693642962e",
   "metadata": {},
   "outputs": [
    {
     "data": {
      "text/plain": [
       "'C:\\\\測試OS模組\\\\檔案包1'"
      ]
     },
     "execution_count": 10,
     "metadata": {},
     "output_type": "execute_result"
    }
   ],
   "source": [
    "os.path.abspath('.\\\\')  #一個點是當前資料夾\n",
    "\n",
    "#將相對路徑改成決對路徑"
   ]
  },
  {
   "cell_type": "code",
   "execution_count": 11,
   "id": "4b299727-a5e6-40db-9543-57e2bd733f27",
   "metadata": {},
   "outputs": [
    {
     "data": {
      "text/plain": [
       "'C:\\\\測試OS模組'"
      ]
     },
     "execution_count": 11,
     "metadata": {},
     "output_type": "execute_result"
    }
   ],
   "source": [
    "os.path.abspath('..\\\\') #兩個點代表回到上上個資料夾"
   ]
  },
  {
   "cell_type": "code",
   "execution_count": 12,
   "id": "17e2cc39-8788-4531-b58b-7d7f02aa857b",
   "metadata": {},
   "outputs": [
    {
     "data": {
      "text/plain": [
       "'C:\\\\測試OS模組\\\\檔案2.txt\\\\檔案3.csv\\\\檔案4.docx'"
      ]
     },
     "execution_count": 12,
     "metadata": {},
     "output_type": "execute_result"
    }
   ],
   "source": [
    "os.path.abspath('..\\\\檔案2.txt\\\\檔案3.csv\\\\檔案4.docx')\n",
    "\n",
    "#要注意的是，os.path大多數只負責轉譯路徑，不符合格式也會轉譯"
   ]
  },
  {
   "cell_type": "markdown",
   "id": "7c35504e-51d6-498a-b305-6a442ffa5381",
   "metadata": {},
   "source": [
    "**檢查絕對路徑**\n",
    "\n",
    "os.path.isabs(path)"
   ]
  },
  {
   "cell_type": "code",
   "execution_count": 13,
   "id": "83074fb1-3f68-4857-8734-cf16de1e7f20",
   "metadata": {},
   "outputs": [
    {
     "data": {
      "text/plain": [
       "False"
      ]
     },
     "execution_count": 13,
     "metadata": {},
     "output_type": "execute_result"
    }
   ],
   "source": [
    "os.path.isabs('.\\\\') #輸入相對路徑 False"
   ]
  },
  {
   "cell_type": "code",
   "execution_count": 14,
   "id": "e18b49e9-9991-4322-8892-c2d1b0180c73",
   "metadata": {},
   "outputs": [
    {
     "data": {
      "text/plain": [
       "True"
      ]
     },
     "execution_count": 14,
     "metadata": {},
     "output_type": "execute_result"
    }
   ],
   "source": [
    "os.path.isabs('C:\\\\測試OS模組\\\\檔案2\\\\檔案3\\\\檔案4') \n",
    "#輸入絕對路徑 True  (只會檢查字串，不會檢查是否真的存在於電腦)"
   ]
  },
  {
   "cell_type": "markdown",
   "id": "552d2e02-3188-4dc9-a603-a2575ef8302c",
   "metadata": {},
   "source": [
    "**轉換成相對路徑**\n",
    "\n",
    "os.path.relpath(path,start)\n",
    "\n",
    "要如何從「start」轉到「path」的相對路徑\n",
    "\n",
    "「start」不輸入的情況下，默認將現在的絕對路徑轉換成鄉對路徑"
   ]
  },
  {
   "cell_type": "code",
   "execution_count": 15,
   "id": "a760a94d-eea5-4261-8353-bcb32d864124",
   "metadata": {},
   "outputs": [
    {
     "data": {
      "text/plain": [
       "'..\\\\檔案包2'"
      ]
     },
     "execution_count": 15,
     "metadata": {},
     "output_type": "execute_result"
    }
   ],
   "source": [
    "os.path.relpath('C:\\\\測試OS模組\\\\檔案包2','C:\\\\測試OS模組\\\\檔案包1')\n",
    "#如何從"
   ]
  },
  {
   "cell_type": "markdown",
   "id": "8ae868d3-e386-476c-b631-8b10d4ca1360",
   "metadata": {},
   "source": [
    "**建立新的資料夾**\n",
    "\n"
   ]
  },
  {
   "cell_type": "markdown",
   "id": "fd5fe56b-7638-46d4-918d-261ddcea81fc",
   "metadata": {},
   "source": [
    "os.mkdirs(path)\n",
    "\n",
    "在提供的path路徑上，若不存在該資料夾(目錄)，則會直接新建"
   ]
  },
  {
   "cell_type": "code",
   "execution_count": 16,
   "id": "eee305b0-5204-4c79-acf7-b96a323ace79",
   "metadata": {},
   "outputs": [
    {
     "name": "stdout",
     "output_type": "stream",
     "text": [
      "資料夾已存在\n"
     ]
    }
   ],
   "source": [
    "try:\n",
    "    os.makedirs('C:\\\\測試OS模組\\\\檔案包2\\\\檔案包new\\\\檔案dir')\n",
    "    #在檔案二\n",
    "except:\n",
    "    print('資料夾已存在')\n",
    "\n",
    "#如果檔案已經存在則會報錯"
   ]
  },
  {
   "cell_type": "markdown",
   "id": "063ffb5a-3dea-477c-a588-59289cab9ec7",
   "metadata": {},
   "source": [
    "**檢查檔案是否存在**"
   ]
  },
  {
   "cell_type": "markdown",
   "id": "3b17e669-da18-41be-a914-e8dc95de1aaa",
   "metadata": {},
   "source": [
    "os.path.isfile(path)"
   ]
  },
  {
   "cell_type": "code",
   "execution_count": 17,
   "id": "9c773af7-d494-4297-ad81-3a1d136f5caf",
   "metadata": {},
   "outputs": [
    {
     "data": {
      "text/plain": [
       "'C:\\\\測試OS模組\\\\檔案包1'"
      ]
     },
     "execution_count": 17,
     "metadata": {},
     "output_type": "execute_result"
    }
   ],
   "source": [
    "os.getcwd()"
   ]
  },
  {
   "cell_type": "code",
   "execution_count": 18,
   "id": "a898c035-09a6-4ce5-a749-32f603966045",
   "metadata": {},
   "outputs": [
    {
     "data": {
      "text/plain": [
       "True"
      ]
     },
     "execution_count": 18,
     "metadata": {},
     "output_type": "execute_result"
    }
   ],
   "source": [
    "os.path.isfile('檔案3.txt')"
   ]
  },
  {
   "cell_type": "code",
   "execution_count": 19,
   "id": "a5a53bb7-8673-4da0-896f-5b581aff09a8",
   "metadata": {},
   "outputs": [],
   "source": [
    "os.chdir('C:\\\\測試OS模組')"
   ]
  },
  {
   "cell_type": "code",
   "execution_count": 20,
   "id": "b432e0ff-d62c-48f4-89ef-95caed646ab3",
   "metadata": {},
   "outputs": [
    {
     "data": {
      "text/plain": [
       "'C:\\\\測試OS模組'"
      ]
     },
     "execution_count": 20,
     "metadata": {},
     "output_type": "execute_result"
    }
   ],
   "source": [
    "os.getcwd()"
   ]
  },
  {
   "cell_type": "code",
   "execution_count": 21,
   "id": "1fe0fa7c-c79c-432e-bfaf-1692590be3df",
   "metadata": {},
   "outputs": [
    {
     "data": {
      "text/plain": [
       "True"
      ]
     },
     "execution_count": 21,
     "metadata": {},
     "output_type": "execute_result"
    }
   ],
   "source": [
    "os.path.isfile('檔案包1\\\\檔案3.txt')"
   ]
  },
  {
   "cell_type": "code",
   "execution_count": 22,
   "id": "d99cb5c1-e589-430a-ba0f-58b2c4750769",
   "metadata": {},
   "outputs": [
    {
     "data": {
      "text/plain": [
       "'C:\\\\測試OS模組\\\\檔案包1'"
      ]
     },
     "execution_count": 22,
     "metadata": {},
     "output_type": "execute_result"
    }
   ],
   "source": [
    "os.chdir('C:\\\\測試OS模組\\\\檔案包1')\n",
    "os.getcwd()"
   ]
  },
  {
   "cell_type": "code",
   "execution_count": 23,
   "id": "f1025d02-5087-441c-ad59-93b2347431a4",
   "metadata": {},
   "outputs": [
    {
     "data": {
      "text/plain": [
       "True"
      ]
     },
     "execution_count": 23,
     "metadata": {},
     "output_type": "execute_result"
    }
   ],
   "source": [
    "os.path.isfile('..\\\\檔案1.txt') #相對路徑找其他檔案"
   ]
  },
  {
   "cell_type": "markdown",
   "id": "6fb85631-6cea-4370-8d3b-e17146d8ecef",
   "metadata": {},
   "source": [
    "**檢查資料夾內容**\n",
    "\n",
    "os.listdir()"
   ]
  },
  {
   "cell_type": "code",
   "execution_count": 24,
   "id": "06f1c4fe-f01e-421f-b91d-bee4a199f2de",
   "metadata": {},
   "outputs": [
    {
     "name": "stdout",
     "output_type": "stream",
     "text": [
      "C:\\測試OS模組\\檔案包1\n"
     ]
    },
    {
     "data": {
      "text/plain": [
       "['檔案3.txt']"
      ]
     },
     "execution_count": 24,
     "metadata": {},
     "output_type": "execute_result"
    }
   ],
   "source": [
    "print(os.getcwd())\n",
    "#檔案包1裡面只有一個「檔案3.txt」\n",
    "os.listdir() "
   ]
  },
  {
   "cell_type": "code",
   "execution_count": 25,
   "id": "bbdf8d2d-a488-4551-b72a-60223a39a05b",
   "metadata": {},
   "outputs": [
    {
     "data": {
      "text/plain": [
       "['DNDicon.ico', '檔案1.txt', '檔案2.txt', '檔案包1', '檔案包2']"
      ]
     },
     "execution_count": 25,
     "metadata": {},
     "output_type": "execute_result"
    }
   ],
   "source": [
    "os.chdir('..\\\\')\n",
    "os.listdir()"
   ]
  },
  {
   "cell_type": "code",
   "execution_count": 26,
   "id": "a909accb-dc22-4562-a55e-1dab437782d5",
   "metadata": {},
   "outputs": [
    {
     "name": "stdout",
     "output_type": "stream",
     "text": [
      "DNDicon.ico\n",
      "檔案1.txt\n",
      "檔案2.txt\n",
      "檔案包1\n",
      "檔案包2\n"
     ]
    }
   ],
   "source": [
    "for i in os.listdir():\n",
    "    print(i)"
   ]
  },
  {
   "cell_type": "markdown",
   "id": "a150b846-112d-455c-ad5d-fd911e7db3c9",
   "metadata": {},
   "source": [
    "#### **檢查檔案大小**\n",
    "\n",
    "os.path.getsize(path)"
   ]
  },
  {
   "cell_type": "code",
   "execution_count": 27,
   "id": "b85a1ddc-d708-46af-a39a-cbc5a287490b",
   "metadata": {},
   "outputs": [
    {
     "data": {
      "text/plain": [
       "'C:\\\\測試OS模組'"
      ]
     },
     "execution_count": 27,
     "metadata": {},
     "output_type": "execute_result"
    }
   ],
   "source": [
    "os.getcwd()"
   ]
  },
  {
   "cell_type": "code",
   "execution_count": 28,
   "id": "bd8d27e4-4a8f-4956-95cf-cd2acf56bf93",
   "metadata": {},
   "outputs": [
    {
     "data": {
      "text/plain": [
       "67646"
      ]
     },
     "execution_count": 28,
     "metadata": {},
     "output_type": "execute_result"
    }
   ],
   "source": [
    "os.path.getsize('DNDicon.ico') #回傳占用的位元組大小"
   ]
  },
  {
   "cell_type": "markdown",
   "id": "88300997-56c7-4351-8bbe-09aba4770f86",
   "metadata": {},
   "source": [
    "在常見的應用方法是檢查檔案是否存在"
   ]
  },
  {
   "cell_type": "code",
   "execution_count": 29,
   "id": "a0314f5d-27dc-4991-9809-c71d5e013f9d",
   "metadata": {},
   "outputs": [
    {
     "name": "stdout",
     "output_type": "stream",
     "text": [
      "C:\\測試OS模組\n",
      "True\n",
      "檔案已存在。\n"
     ]
    }
   ],
   "source": [
    "import os\n",
    "print(os.getcwd()) #顯示當前的檔案位置\n",
    "\n",
    "\n",
    "file = \"檔案1.txt\"  \n",
    "print(os.path.isfile(file)) #檢查該路境內的檔案是否存在\n",
    "\n",
    "\n",
    "if os.path.isfile(file):\n",
    "    print(\"檔案已存在。\") #已存在，跳過目前檔案讀寫，準備抓取下一份檔案\n",
    "    #跳過目前的檔案讀寫\n",
    "else:\n",
    "    print(\"檔案不存在。\")\n",
    "    #檔案不存在狀況下，繼續原本的複寫圖案動作"
   ]
  }
 ],
 "metadata": {
  "kernelspec": {
   "display_name": "Python 3 (ipykernel)",
   "language": "python",
   "name": "python3"
  },
  "language_info": {
   "codemirror_mode": {
    "name": "ipython",
    "version": 3
   },
   "file_extension": ".py",
   "mimetype": "text/x-python",
   "name": "python",
   "nbconvert_exporter": "python",
   "pygments_lexer": "ipython3",
   "version": "3.9.7"
  }
 },
 "nbformat": 4,
 "nbformat_minor": 5
}
