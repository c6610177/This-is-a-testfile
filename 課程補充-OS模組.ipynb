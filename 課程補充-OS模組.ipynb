{
 "cells": [
  {
   "cell_type": "markdown",
   "id": "7221d233-545e-4201-8d6a-21eaeda4c16f",
   "metadata": {},
   "source": [
    "#### **讀寫檔案**\n",
    "\n",
    "本章要介紹python在硬碟上的建立、讀取和儲存檔案"
   ]
  },
  {
   "cell_type": "markdown",
   "id": "ec5193b1-3809-46e4-ba14-50fdda68eb84",
   "metadata": {
    "tags": []
   },
   "source": [
    "#### **關於檔案與路徑**\n",
    "\n",
    "檔案有著兩個關鍵的性質：「檔名」和「路徑」。其中路徑顯示了檔案在電腦中的位置。例如：我的電腦中有一份「2330.csv」，路徑為「C:\\Users\\c6610」，其中Users、c66101都是我的資料夾(目錄)\n",
    "\n",
    "而像是下圖，某台Windows電腦中的檔案目錄很可能會長這樣。"
   ]
  },
  {
   "cell_type": "markdown",
   "id": "1622b9e9-ba27-445c-b917-b33bc7d5a429",
   "metadata": {},
   "source": [
    "<img src=https://s3.ap-northeast-1.wasabisys.com/img.tw511.com/202008/20200811135725465iibrhfp0zen.png>"
   ]
  },
  {
   "cell_type": "markdown",
   "id": "0e9048ea-4bbe-4ee5-a2c1-8bc6793b9d79",
   "metadata": {},
   "source": [
    "**補充：Windows的反斜線與 OS和Linux上的斜線**\n",
    "\n",
    "在Windows上，路徑是採用反斜線(\\)作為分隔，但在OS和Linux系統上則是採用斜線(/)做為分隔符號，因此要讓程式能在各系統上運作就要處理這種情況。而我們這次要用的os模組大多數都有辦法處理這種問題。\n",
    "\n",
    "os模組可以用一個簡單的函式處理這種問題：「os.path.join()」，會將輸入進去的字串回傳出路徑」"
   ]
  },
  {
   "cell_type": "code",
   "execution_count": 11,
   "id": "6f3fc4aa-db04-438b-b851-b5b9341e93c3",
   "metadata": {},
   "outputs": [
    {
     "data": {
      "text/plain": [
       "'users\\\\new_Folder\\\\spam'"
      ]
     },
     "execution_count": 11,
     "metadata": {},
     "output_type": "execute_result"
    }
   ],
   "source": [
    "os.path.join('users','new_Folder','spam')\n",
    "\n",
    "#只所以會是兩個斜線，是因為每個反斜線都要用一個反斜線來轉譯"
   ]
  },
  {
   "cell_type": "markdown",
   "id": "a902a0b9-bd72-4940-9bfc-7e0f18014832",
   "metadata": {},
   "source": [
    "如果是在OS系統和Linux運作，則會回傳「users/new_Folder/spam」"
   ]
  },
  {
   "cell_type": "code",
   "execution_count": 14,
   "id": "991e8de1-50bd-4450-9059-170d8e53bffd",
   "metadata": {},
   "outputs": [
    {
     "name": "stdout",
     "output_type": "stream",
     "text": [
      "C:\\Users\\new_Folder\\檔案1.txt\n",
      "C:\\Users\\new_Folder\\檔案2.csv\n",
      "C:\\Users\\new_Folder\\檔案3.docx\n"
     ]
    }
   ],
   "source": [
    "myFiles=['檔案1.txt','檔案2.csv','檔案3.docx']\n",
    "for filename in myFiles:\n",
    "    print(os.path.join('C:\\\\Users\\\\new_Folder',filename))\n",
    "    #print是直接顯示出來，不需要用兩個反斜線"
   ]
  },
  {
   "cell_type": "code",
   "execution_count": 15,
   "id": "096ba742-1a09-4976-9365-09276b5a5405",
   "metadata": {},
   "outputs": [
    {
     "data": {
      "text/plain": [
       "'C:\\\\Users\\\\new_Folder\\\\檔案3.docx'"
      ]
     },
     "execution_count": 15,
     "metadata": {},
     "output_type": "execute_result"
    }
   ],
   "source": [
    "os.path.join('C:\\\\Users\\\\new_Folder',filename)"
   ]
  },
  {
   "cell_type": "markdown",
   "id": "269ef571-ba0c-40e1-8d22-1df67e1413d0",
   "metadata": {},
   "source": [
    "**目前的工作目錄**"
   ]
  },
  {
   "cell_type": "markdown",
   "id": "cb3933df-900d-47b4-a4f0-9c0772c60614",
   "metadata": {},
   "source": [
    "每個電腦的程式都會有所謂的「當前工作目錄(current working directory，簡稱cwd或cd)」\n",
    "\n",
    "我們可以透過「os.getcwd()」來得到當前的目錄，並且採用「os.chdir()」來切換變更。"
   ]
  },
  {
   "cell_type": "code",
   "execution_count": 17,
   "id": "121e0955-6a23-46a2-a85e-ffa4de18a1d6",
   "metadata": {},
   "outputs": [
    {
     "data": {
      "text/plain": [
       "'C:\\\\Users\\\\c6610'"
      ]
     },
     "execution_count": 17,
     "metadata": {},
     "output_type": "execute_result"
    }
   ],
   "source": [
    "os.getcwd() #取得當前工作目錄位置"
   ]
  },
  {
   "cell_type": "code",
   "execution_count": 24,
   "id": "1b8a6c54-a8c4-4ae3-8812-5a3ef718fee7",
   "metadata": {},
   "outputs": [
    {
     "data": {
      "text/plain": [
       "'C:\\\\Users\\\\c6610\\\\新下載位置'"
      ]
     },
     "execution_count": 24,
     "metadata": {},
     "output_type": "execute_result"
    }
   ],
   "source": [
    "os.chdir(\"C:\\\\Users\\\\c6610\\\\新下載位置\") \n",
    "#更改至輸入字串的位置 #可以自己新增資料夾來測試。\n",
    "\n",
    "os.getcwd() #檢查是否更改"
   ]
  },
  {
   "cell_type": "markdown",
   "id": "dc329ade-9781-42c7-b24b-159bd2841bdd",
   "metadata": {},
   "source": [
    "#### **絕對路徑與相對路徑**\n",
    "\n",
    "主要有兩種指定檔案路徑的方式\n",
    "\n",
    "1. 絕對路徑：從根目錄開始\n",
    "\n",
    "2. 相對路徑：相對於程式的目前工作目錄"
   ]
  },
  {
   "cell_type": "markdown",
   "id": "ff893560-a403-4fda-baa8-2c58aff9b198",
   "metadata": {},
   "source": [
    "<img src=https://s3.ap-northeast-1.wasabisys.com/img.tw511.com/202008/20200811135725465iibrhfp0zen.png>"
   ]
  },
  {
   "cell_type": "code",
   "execution_count": 2,
   "id": "a0314f5d-27dc-4991-9809-c71d5e013f9d",
   "metadata": {},
   "outputs": [
    {
     "name": "stdout",
     "output_type": "stream",
     "text": [
      "C:\\Users\\c6610\n",
      "True\n",
      "檔案已存在。\n"
     ]
    }
   ],
   "source": [
    "import os\n",
    "\n",
    "print(os.getcwd()) #顯示當前的檔案位置\n",
    "file = \"示範OS模組.txt\"  #其中一張圖片是「10008506.jpg」\n",
    "print(os.path.isfile(file)) #檢查該路境內的檔案是否存在\n",
    "\n",
    "\n",
    "if os.path.isfile(file):\n",
    "    print(\"檔案已存在。\") #已存在，跳過目前檔案讀寫，準備抓取下一份檔案\n",
    "else:\n",
    "    print(\"檔案不存在。\")\n",
    "    #檔案不存在狀況下，繼續原本的桌圖動作"
   ]
  }
 ],
 "metadata": {
  "kernelspec": {
   "display_name": "Python 3 (ipykernel)",
   "language": "python",
   "name": "python3"
  },
  "language_info": {
   "codemirror_mode": {
    "name": "ipython",
    "version": 3
   },
   "file_extension": ".py",
   "mimetype": "text/x-python",
   "name": "python",
   "nbconvert_exporter": "python",
   "pygments_lexer": "ipython3",
   "version": "3.9.7"
  }
 },
 "nbformat": 4,
 "nbformat_minor": 5
}
