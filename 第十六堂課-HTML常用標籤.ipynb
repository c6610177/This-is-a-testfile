{
 "cells": [
  {
   "cell_type": "markdown",
   "id": "32ffd6e2-280f-45a8-99a5-2a386abf024f",
   "metadata": {},
   "source": [
    "### **HTML常用標籤與屬性**\n",
    "\n",
    "在我們進行對於多網頁、多網站的網路爬蟲，會經常應用「標籤(tags)」和「屬性(attributes)」，也因此我們必須要先熟悉HTML中，常用的標籤與屬性有那些，才會對我們未來的撰寫爬蟲程式更有幫助。\n",
    "\n",
    "Markdown語法是一種輕量級標記式語言，可以適用於HTML的語法，因此下面實例可以將區塊從\"Raw\"轉成\"Markdown\"來查看標籤的效果。"
   ]
  },
  {
   "cell_type": "markdown",
   "id": "a2546f7b-882b-444d-ad40-c66b9ede5f17",
   "metadata": {},
   "source": [
    "**<h5>HTML標籤基礎</h5>**\n",
    "\n",
    "開頭(opening)與結尾(closing)"
   ]
  },
  {
   "cell_type": "raw",
   "id": "23532581-3506-44f0-bd71-9d1e017def6d",
   "metadata": {},
   "source": [
    "以下做為實際例子\n",
    "<p>一篇文章中的句子</p>\n",
    "\n",
    "其中<p>為開頭標籤，</p>為結尾標籤，而中間則是想要呈現的內容。\n",
    "-------------------------------------------------------------\n",
    "\n",
    "除了某些標籤像是<img>，不需要加入結尾標籤，加入結尾標籤代表標籤結束位置"
   ]
  },
  {
   "cell_type": "raw",
   "id": "8406c95e-ff15-4bad-9243-59313cd04b03",
   "metadata": {},
   "source": [
    "1.段落文字<p>\n",
    "\n",
    "paragraph，網頁段落文字標籤\n",
    "\n",
    "主要應用於網路文章上，讓文章上的每個文字可以分成數個段落\n"
   ]
  },
  {
   "cell_type": "raw",
   "id": "387117bd-f674-46c6-ad1b-4ef89b21c9b9",
   "metadata": {},
   "source": [
    "例子：\n",
    "<p>福爾摩斯：「世上的事都是前人做過的，沒什麼新鮮的」</p><p>名言：「最有勇氣的行為就是替自己著想。」</p>"
   ]
  },
  {
   "cell_type": "raw",
   "id": "dbe69390-8ad5-4f58-b3dc-74851b315f48",
   "metadata": {},
   "source": [
    "2.標題<h1>~<h6>\n",
    "\n",
    "標題從大標題到小標題有六種，分別從<h1>到<h6>，而通常一個網頁的<h1>是主要標題，就像是報告書封面上大標題一樣，通常會出現僅一次，讓瀏覽器、搜尋引擎知道主要標題是什麼。"
   ]
  },
  {
   "cell_type": "markdown",
   "id": "f11255ab-59fe-4e6b-9aec-d615d8a63dee",
   "metadata": {},
   "source": [
    "例子：\n",
    "<h1>一號標題</h1>標題內的文章\n",
    "<h2>二號標題</h2>\n",
    "<h3>三號標題</h3>\n",
    "<h4>四號標題</h4>\n",
    "<h5>五號標題</h5>"
   ]
  },
  {
   "cell_type": "code",
   "execution_count": null,
   "id": "1bd22910-56c7-4abb-83b2-7fd0c9f2eaa8",
   "metadata": {},
   "outputs": [],
   "source": []
  },
  {
   "cell_type": "code",
   "execution_count": null,
   "id": "16149e55-2dfe-4df3-b7f9-7cd617d71cd7",
   "metadata": {},
   "outputs": [],
   "source": []
  },
  {
   "cell_type": "code",
   "execution_count": null,
   "id": "247f0519-2ec4-4dae-ac9b-8e71221c9177",
   "metadata": {},
   "outputs": [],
   "source": []
  },
  {
   "cell_type": "code",
   "execution_count": null,
   "id": "0c2d863d-2443-4974-9c67-a256c1c1bdfd",
   "metadata": {},
   "outputs": [],
   "source": []
  },
  {
   "cell_type": "raw",
   "id": "e33c145a-6a48-4584-b645-946bdeca07fc",
   "metadata": {},
   "source": [
    "3.圖片<img>\n",
    "\n",
    "在網頁上圖片用到img標籤，不需要開頭與結尾，單獨使用一個<img>即可\n",
    "\n",
    "在使用上主要會使用該標籤的屬性(Attributes)\n",
    "\n",
    "用法：<img src=\"來源\" alt=\"名稱\" height=\"高度\" width=\"寬度\">"
   ]
  },
  {
   "cell_type": "raw",
   "id": "ff14c4b6-ced8-4a0f-aea3-7eb881d0b933",
   "metadata": {},
   "source": [
    "例子：-來源：日本免費素材網站(https://illustcenter.com/2022/02/25/rdesign_14096/)\n",
    "\n",
    "\n",
    "<img src=\"https://illustcenter.com/wp-content/uploads/2022/02/rdesign_14096-508x381.png\" alt=\"滑雪的人\" height=\"100\" width=\"150\">"
   ]
  },
  {
   "cell_type": "raw",
   "id": "2c79381b-6af2-46fe-8122-eea7710bd322",
   "metadata": {},
   "source": [
    "其中圖片內用的屬性包含\n",
    "「src」(soruce file來源檔案)\n",
    "「alt」(alternative text替代文字)\n",
    "「height」與「width」高度與寬度\n",
    "\n",
    "從中我們就可以了解到屬性的特性：(1)搭配標籤一起使用(2)屬性屬於可選擇性"
   ]
  },
  {
   "cell_type": "raw",
   "id": "f1ab36e6-cd4e-413f-8543-4f13c76b17b7",
   "metadata": {},
   "source": [
    "4.超連結<a>\n",
    "\n",
    "<a>標籤(anchor)，主要使用屬性href展現功能(hypertext reference)\n",
    "\n",
    "用法：<a href=\"目標網址\">自定義名稱</a>"
   ]
  },
  {
   "cell_type": "raw",
   "id": "6ab757bf-6ae5-4f8e-8203-57483e1c6312",
   "metadata": {},
   "source": [
    "例子：\n",
    "\n",
    "<a href=\"https://zh.wikipedia.org/zh-tw/Wikipedia:%E9%A6%96%E9%A1%B5\">這是一個維基百科首頁的連結</a>"
   ]
  },
  {
   "cell_type": "raw",
   "id": "da1f0dde-8e97-482b-a4f9-06e49396329b",
   "metadata": {},
   "source": [
    "5.有序清單<ol>  (ordered list)\n",
    "\n",
    "在網頁列上有順序性的清單，使用<ol></ol>標籤。實際例子中，中間會搭配<li></li>標籤。(List)"
   ]
  },
  {
   "cell_type": "markdown",
   "id": "d1c86b4d-4de1-4676-ab3a-7b45536ed78f",
   "metadata": {},
   "source": [
    "<ol>\n",
    "    <li>第一個</li><li>第二個</li><li>第三個</li>\n",
    "</ol>"
   ]
  },
  {
   "cell_type": "raw",
   "id": "39af8068-823d-4204-9c88-acdd0c1c68e3",
   "metadata": {},
   "source": [
    "6.無序清單<ul>\n",
    "\n",
    "網頁上呈現清單，但該清單不需要為其做順序之分的時候，使用<ul></ul>標籤，中間搭配<li></li>標籤使用。"
   ]
  },
  {
   "cell_type": "markdown",
   "id": "45f14fc6-033f-4f8f-a15b-dbce11bb2829",
   "metadata": {},
   "source": [
    "<ul>\n",
    "    <li>第一個</li>\n",
    "    <li>第二個</li><li>第三個</li>\n",
    "</ul>"
   ]
  },
  {
   "cell_type": "raw",
   "id": "a5c47b05-e27f-4137-93e6-17743435a495",
   "metadata": {},
   "source": [
    "7.空格<br>\n",
    "\n",
    "空一行(a line break)，在一串標籤中可以空一行使用。"
   ]
  },
  {
   "cell_type": "markdown",
   "id": "ddf82477-922c-44b0-9a5c-8b5b7217e0b9",
   "metadata": {},
   "source": [
    "<ol>\n",
    "    <li>第一個</li>\n",
    "    <li>第二個</li>\n",
    "    <br>\n",
    "    <li>第三個</li>\n",
    "</ol>"
   ]
  },
  {
   "cell_type": "raw",
   "id": "52652941-de58-48c7-8c0a-30dd5379ad9a",
   "metadata": {},
   "source": [
    "8.註解\n",
    "\n",
    "與撰寫其他程式語言的時候相同，一連串的標籤會讓人看得一頭霧水，在標籤中也會有註解這段不會受理HTML結構的筆記可以使用。註解的內容不會顯示在網頁上。\n",
    "\n",
    "用法：\n",
    "<!-- 自定義註解內容 -->"
   ]
  },
  {
   "cell_type": "markdown",
   "id": "250db8ee-8350-4569-a0c1-5b8b17c7b2e8",
   "metadata": {},
   "source": [
    "<ol>\n",
    "    <li>第一個</li>\n",
    "    <li>第二個</li>\n",
    "    <!-- 這是一段註解 -->\n",
    "    <li>第三個</li>\n",
    "</ol>"
   ]
  },
  {
   "cell_type": "raw",
   "id": "299d0d10-4c87-4e8e-a527-f54422991182",
   "metadata": {},
   "source": [
    "9.區塊元素<div>\n",
    "\n",
    "10.行內元素<span>\n",
    "\n",
    "當我們想要美化網站時候，會對某個段落或是幾個字變色，或者上背景或邊框等等，此時我們需要一個範圍，而div和span可以明確劃定位置。了解這兩個標籤前，需要先了解「區塊(block)」和「行內(inline)」的概念"
   ]
  },
  {
   "cell_type": "markdown",
   "id": "db768d72-2af1-4411-a9cb-40b5522b2634",
   "metadata": {},
   "source": [
    "**區塊(block)與行內(inline)**\n",
    "\n",
    "區塊(block)呈現在網頁上是會換行的一整塊內容，行內(inline)則會在同一行上運作。\n",
    "\n",
    "如果我們想要在句子中的文字背後有橘紅色背景，我們先使用div標籤，裡面填入CSS樣式的背景色。(背景色透過style來填入)"
   ]
  },
  {
   "cell_type": "markdown",
   "id": "01b6e26e-d4ee-47fb-810c-23db79d5c876",
   "metadata": {},
   "source": [
    "<div style=\"background-color:#F9D9CA;\">\n",
    "    <p>這是第一段句子</p>\n",
    "    <p>這是第二段句子</p>\n",
    "</div>"
   ]
  },
  {
   "cell_type": "raw",
   "id": "bbaa59f5-54bf-4ac9-a515-6da3ab2b35c7",
   "metadata": {},
   "source": [
    "以上就會看到<div>標籤的功能，可以利用其開頭與結尾形成一個個區塊(block)，再進行網頁美化。"
   ]
  },
  {
   "cell_type": "raw",
   "id": "89c21f41-27a9-4cb3-8855-4f34c4181195",
   "metadata": {},
   "source": [
    "延續上面例子，如果我們只想要讓「第一段、第二段」有背景色，僅靠div是沒辦法做，因為div是一整個區塊(也就是會導致換行移位)"
   ]
  },
  {
   "cell_type": "markdown",
   "id": "79f5f045-248d-48cb-9888-a35ea43f67d9",
   "metadata": {},
   "source": [
    "<p>這是<div style=\"background-color:#F9D9CA;\">第一段</div>句子</p>\n",
    "\n",
    "<p>這是第二段句子</p><!--第二段句子不使用div來區分與第一段的不同-->"
   ]
  },
  {
   "cell_type": "raw",
   "id": "8ba1f043-184b-4630-a6b2-921e0bb14a09",
   "metadata": {},
   "source": [
    "因此我們可以透過<span>這行內元素來進行調整，並且不會換行維持原本的段落文字格式。"
   ]
  },
  {
   "cell_type": "markdown",
   "id": "dfbf28c8-d031-42d2-8961-624f99ae03a6",
   "metadata": {},
   "source": [
    "<p>這是<span style=\"background-color:#F9D9CA;\">第一段</span>句子</p>\n",
    "\n",
    "<p>這是第二段句子</p><!--第二段句子不使用div來區分與第一段的不同-->"
   ]
  },
  {
   "cell_type": "markdown",
   "id": "516fad2e-0ae4-4a7a-9760-8572748846e0",
   "metadata": {},
   "source": [
    "#### **HTML5：語意(Semantic)標籤**\n",
    "\n",
    "語意標籤是HTML5新增的功能，目的是讓標籤(Tag)更具有意義，加強結構性。\n"
   ]
  },
  {
   "cell_type": "raw",
   "id": "937feb04-fcd5-46d4-9882-db7def5fb60e",
   "metadata": {},
   "source": [
    "<header>頁首\n",
    "<nav>導覽列\n",
    "<main>主要內容\n",
    "<section>區塊\n",
    "有主題性的區塊\n",
    "<aside>側邊欄\n",
    "<footer>頁尾"
   ]
  },
  {
   "cell_type": "markdown",
   "id": "09d5bc0a-d353-454d-9708-6df5f48955e3",
   "metadata": {},
   "source": [
    "<a href>"
   ]
  },
  {
   "cell_type": "markdown",
   "id": "feddf602-a5c1-4243-952f-6078568d0a3c",
   "metadata": {},
   "source": [
    "<img src=\"https://d1dwq032kyr03c.cloudfront.net/upload/images/20200920/20129094OfFCWINZkD.png\">"
   ]
  }
 ],
 "metadata": {
  "kernelspec": {
   "display_name": "Python 3 (ipykernel)",
   "language": "python",
   "name": "python3"
  },
  "language_info": {
   "codemirror_mode": {
    "name": "ipython",
    "version": 3
   },
   "file_extension": ".py",
   "mimetype": "text/x-python",
   "name": "python",
   "nbconvert_exporter": "python",
   "pygments_lexer": "ipython3",
   "version": "3.9.7"
  }
 },
 "nbformat": 4,
 "nbformat_minor": 5
}
